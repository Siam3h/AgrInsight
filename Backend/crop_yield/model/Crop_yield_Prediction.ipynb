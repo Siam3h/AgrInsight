{
 "cells": [
  {
   "cell_type": "code",
   "execution_count": null,
   "id": "17f44dc4-ee6b-4061-8c35-f306d320b3b1",
   "metadata": {},
   "outputs": [],
   "source": [
    "import numpy as np\n",
    "import pandas as pd\n",
    "from sklearn.preprocessing import OneHotEncoder,MinMaxScaler  "
   ]
  },
  {
   "cell_type": "code",
   "execution_count": null,
   "id": "6b9f4f89-a564-42ff-9b1f-60f52a624ad0",
   "metadata": {},
   "outputs": [],
   "source": [
    "df_yield = pd.read_csv('yield.csv')"
   ]
  },
  {
   "cell_type": "code",
   "execution_count": null,
   "id": "8d55df10-956d-42c6-b6cd-7e481683eacf",
   "metadata": {},
   "outputs": [],
   "source": [
    "df_yield.shape"
   ]
  },
  {
   "cell_type": "code",
   "execution_count": null,
   "id": "4358f1d0-3724-4b78-8243-3dc481fc6226",
   "metadata": {},
   "outputs": [],
   "source": [
    "df_yield.head(5)"
   ]
  },
  {
   "cell_type": "code",
   "execution_count": null,
   "id": "9aa66a19-f55a-4e87-b77b-57bca43f4db7",
   "metadata": {},
   "outputs": [],
   "source": [
    "df_yield.info"
   ]
  },
  {
   "cell_type": "code",
   "execution_count": null,
   "id": "d7fe36e1-4c9f-4382-aaa4-8bd4c1aa6aec",
   "metadata": {},
   "outputs": [],
   "source": [
    "df_yield.rename( columns={\"Value\": \"hg/ha_yield\"}, inplace=True)"
   ]
  },
  {
   "cell_type": "code",
   "execution_count": null,
   "id": "4827bdba-ad2a-45e1-a2d0-3b51bdda97df",
   "metadata": {},
   "outputs": [],
   "source": [
    "df_yield.head(5)"
   ]
  },
  {
   "cell_type": "code",
   "execution_count": null,
   "id": "1ef1be92-cc0e-4dba-8194-f470ac76fa75",
   "metadata": {},
   "outputs": [],
   "source": [
    "df_yield = df_yield.drop(['Year Code','Element Code', 'Element','Year Code','Area Code','Domain Code', 'Domain','Unit','Item Code'], axis=1) "
   ]
  },
  {
   "cell_type": "code",
   "execution_count": null,
   "id": "630feff6-41ac-4cc4-a632-228e57dd3d00",
   "metadata": {},
   "outputs": [],
   "source": [
    "df_yield.head(5)"
   ]
  },
  {
   "cell_type": "code",
   "execution_count": null,
   "id": "f084c2b8-cf71-4aa8-a9a8-c9269209a06a",
   "metadata": {},
   "outputs": [],
   "source": [
    "df_yield = df_yield.dropna()"
   ]
  },
  {
   "cell_type": "code",
   "execution_count": null,
   "id": "ee729b40-8698-47c1-89c2-e3ef70194461",
   "metadata": {},
   "outputs": [],
   "source": [
    "##Load Climate Data"
   ]
  },
  {
   "cell_type": "code",
   "execution_count": null,
   "id": "af146c64-cfcf-4eea-95e8-3fb0ce0a8bb2",
   "metadata": {},
   "outputs": [],
   "source": [
    "df_rain = pd.read_csv('rainfall.csv')"
   ]
  },
  {
   "cell_type": "code",
   "execution_count": null,
   "id": "055326ab-30e4-493c-9df7-998619569556",
   "metadata": {},
   "outputs": [],
   "source": [
    "df_rain.head(5)"
   ]
  },
  {
   "cell_type": "code",
   "execution_count": null,
   "id": "1fe1f937-1dea-4ec1-b6bd-a3877ffa12ed",
   "metadata": {},
   "outputs": [],
   "source": [
    "df_rain.head()"
   ]
  },
  {
   "cell_type": "code",
   "execution_count": null,
   "id": "7852fab2-9a65-46bf-85e0-43575c696a9b",
   "metadata": {},
   "outputs": [],
   "source": [
    "df_rain['average_rain_fall_mm_per_year'] = pd.to_numeric(df_rain['average_rain_fall_mm_per_year'],errors = 'coerce')  "
   ]
  },
  {
   "cell_type": "code",
   "execution_count": null,
   "id": "9f7fb6fc-12cf-483b-b873-3331fec50ae2",
   "metadata": {},
   "outputs": [],
   "source": [
    "df_rain = df_rain.dropna()"
   ]
  },
  {
   "cell_type": "code",
   "execution_count": null,
   "id": "447585ea-3d94-42b2-b3be-db3fc98aa77e",
   "metadata": {},
   "outputs": [],
   "source": [
    "df_main = pd.merge(df_yield, df_rain, on=['Year','Area'], how='outer')"
   ]
  },
  {
   "cell_type": "code",
   "execution_count": null,
   "id": "dcee4672-4128-4062-8ec4-cf059a5d1bbd",
   "metadata": {},
   "outputs": [],
   "source": [
    "df_main.tail(5)"
   ]
  },
  {
   "cell_type": "code",
   "execution_count": null,
   "id": "cdbd6bb3-dd5f-4a11-8ef1-507f90ec50b0",
   "metadata": {},
   "outputs": [],
   "source": [
    "df_main.dropna()"
   ]
  },
  {
   "cell_type": "code",
   "execution_count": null,
   "id": "e17f7122-d77c-4794-bd00-095a0c7b6e7a",
   "metadata": {},
   "outputs": [],
   "source": [
    "dataframe_pesticide = pd.read_csv('pesticides.csv')"
   ]
  },
  {
   "cell_type": "code",
   "execution_count": null,
   "id": "c79f0c5f-7773-4919-8c8a-f2453184e8b6",
   "metadata": {},
   "outputs": [],
   "source": [
    "dataframe_pesticide.head()  "
   ]
  },
  {
   "cell_type": "code",
   "execution_count": null,
   "id": "affc49a4-ee85-4754-b821-58b129771b50",
   "metadata": {},
   "outputs": [],
   "source": [
    "dataframe_pesticide = dataframe_pesticide.rename(index=str, columns={\"Value\": \"pesticides_tonnes\"}) "
   ]
  },
  {
   "cell_type": "code",
   "execution_count": null,
   "id": "4148d498-8873-4332-8ffe-884107ba1f7f",
   "metadata": {},
   "outputs": [],
   "source": [
    "dataframe_pesticide = dataframe_pesticide.drop(['Element','Domain','Unit','Item'], axis=1)  "
   ]
  },
  {
   "cell_type": "code",
   "execution_count": null,
   "id": "3f219c7e-e207-41d5-a597-3baaaf258099",
   "metadata": {},
   "outputs": [],
   "source": [
    "dataframe_pesticide.head() "
   ]
  },
  {
   "cell_type": "code",
   "execution_count": null,
   "id": "83b48179-562d-4c72-81f7-c130b0280df3",
   "metadata": {},
   "outputs": [],
   "source": [
    "df_main = pd.merge(df_main,dataframe_pesticide,on=['Year','Area'])"
   ]
  },
  {
   "cell_type": "code",
   "execution_count": null,
   "id": "25d09717-060d-4824-94e5-d3ea84492c5a",
   "metadata": {},
   "outputs": [],
   "source": [
    "df_main.head(5)"
   ]
  },
  {
   "cell_type": "code",
   "execution_count": null,
   "id": "b3bdfe67-c148-410b-85d6-8542e8bd51a6",
   "metadata": {},
   "outputs": [],
   "source": [
    "dataframe_temp= pd.read_csv('temp.csv')  "
   ]
  },
  {
   "cell_type": "code",
   "execution_count": null,
   "id": "ab766aee-185a-42f0-8637-3ef5066108eb",
   "metadata": {},
   "outputs": [],
   "source": [
    "dataframe_temp.head(5)  "
   ]
  },
  {
   "cell_type": "code",
   "execution_count": null,
   "id": "e3d5194f-0bd7-4d49-a0fa-d3104ce551f0",
   "metadata": {},
   "outputs": [],
   "source": [
    "dataframe_temp =dataframe_temp.dropna()"
   ]
  },
  {
   "cell_type": "code",
   "execution_count": null,
   "id": "fcdc92e0-ee9e-469e-be4c-0c37712e5ae8",
   "metadata": {},
   "outputs": [],
   "source": [
    "dataframe_temp = dataframe_temp.rename(index=str, columns={\"year\": \"Year\", \"country\": 'Area'})"
   ]
  },
  {
   "cell_type": "code",
   "execution_count": null,
   "id": "2cf9bac6-bb91-43d1-8b40-a8a6712054cd",
   "metadata": {},
   "outputs": [],
   "source": [
    "dataframe_temp.head()"
   ]
  },
  {
   "cell_type": "code",
   "execution_count": null,
   "id": "e745560a-65ab-4954-b2d5-61850d34f0a7",
   "metadata": {},
   "outputs": [],
   "source": [
    "df_main = pd.merge(df_main,dataframe_temp,on=['Year','Area'])"
   ]
  },
  {
   "cell_type": "code",
   "execution_count": null,
   "id": "0e9ed559-e731-42f5-b25c-9bc7aa22df00",
   "metadata": {},
   "outputs": [],
   "source": [
    "df_main.head(5)"
   ]
  },
  {
   "cell_type": "code",
   "execution_count": null,
   "id": "7d61509c-43a8-4cfd-9ba9-52752627486d",
   "metadata": {},
   "outputs": [],
   "source": [
    "df_main.isnull().sum()"
   ]
  },
  {
   "cell_type": "code",
   "execution_count": null,
   "id": "5eb0401b-a6bf-4329-9a48-a8e04dcd84b5",
   "metadata": {},
   "outputs": [],
   "source": [
    "df_main.dropna()"
   ]
  },
  {
   "cell_type": "code",
   "execution_count": null,
   "id": "2c12a33a-8b4e-49ff-af69-e32d44f64f19",
   "metadata": {},
   "outputs": [],
   "source": [
    "df_main.isnull().sum()"
   ]
  },
  {
   "cell_type": "code",
   "execution_count": null,
   "id": "ffa210aa-d160-44f8-9cfc-8ab9de35bafe",
   "metadata": {},
   "outputs": [],
   "source": [
    "df_main=df_main.dropna()  "
   ]
  },
  {
   "cell_type": "code",
   "execution_count": null,
   "id": "29a169bb-baf2-487b-93f1-e68d11fcf12a",
   "metadata": {},
   "outputs": [],
   "source": [
    "df_main.isnull().sum()"
   ]
  },
  {
   "cell_type": "code",
   "execution_count": null,
   "id": "80abee7e-b587-45ce-86a0-fbb013116243",
   "metadata": {},
   "outputs": [],
   "source": [
    "df_main.groupby('Item').count()  "
   ]
  },
  {
   "cell_type": "code",
   "execution_count": null,
   "id": "2a06bf5f-e157-4e05-ba62-da7298048317",
   "metadata": {},
   "outputs": [],
   "source": [
    "df_main_onehot = pd.get_dummies(df_main, columns=['Area',\"Item\"], prefix = ['Country',\"Item\"])"
   ]
  },
  {
   "cell_type": "code",
   "execution_count": null,
   "id": "bd8d6733-56d6-4a64-933b-58915c1465b7",
   "metadata": {},
   "outputs": [],
   "source": [
    "features=df_main_onehot.loc[:, df_main_onehot.columns != 'hg/ha_yield']  "
   ]
  },
  {
   "cell_type": "code",
   "execution_count": null,
   "id": "c5ff52f5-2546-4c59-9416-463dcd15e729",
   "metadata": {},
   "outputs": [],
   "source": [
    "label=df_main['hg/ha_yield']  \n",
    "features.head() "
   ]
  },
  {
   "cell_type": "code",
   "execution_count": null,
   "id": "fc273a41-cd94-49ec-a7ae-530e0096431f",
   "metadata": {},
   "outputs": [],
   "source": [
    "features = features.drop(['Year'], axis=1)  "
   ]
  },
  {
   "cell_type": "code",
   "execution_count": null,
   "id": "92afab80-a258-462c-abf9-9bc8a5617485",
   "metadata": {
    "scrolled": true
   },
   "outputs": [],
   "source": [
    "features.head(3)"
   ]
  },
  {
   "cell_type": "code",
   "execution_count": null,
   "id": "8a67d9dc-2c1b-419a-8ac5-79abe8086859",
   "metadata": {},
   "outputs": [],
   "source": [
    "scaler = MinMaxScaler()  "
   ]
  },
  {
   "cell_type": "code",
   "execution_count": null,
   "id": "7d12956a-6609-4fc9-b2d5-1b40fa70b678",
   "metadata": {},
   "outputs": [],
   "source": [
    "features = scaler.fit_transform(features)"
   ]
  },
  {
   "cell_type": "code",
   "execution_count": null,
   "id": "9f095729-857c-46df-889d-e12116ec2afa",
   "metadata": {},
   "outputs": [],
   "source": [
    "from sklearn.model_selection import train_test_split  \n",
    "train_data, test_data, train_labels, test_labels = train_test_split(features, label, test_size=0.2, random_state=42)  "
   ]
  },
  {
   "cell_type": "code",
   "execution_count": null,
   "id": "962129f8-a647-4d34-bb4c-616ed3cf0d6e",
   "metadata": {},
   "outputs": [],
   "source": [
    "from sklearn.metrics import r2_score  \n",
    "def compare_models(model):  \n",
    "    model_name = model.__class__.__name__  \n",
    "    fit=model.fit(train_data,train_labels)  \n",
    "    y_pred=fit.predict(test_data)  \n",
    "    r2=r2_score(test_labels,y_pred)  \n",
    "    return([model_name,r2]) "
   ]
  },
  {
   "cell_type": "code",
   "execution_count": null,
   "id": "4f29ff2a-2f6e-460f-b6e6-8f3b1a11cbf5",
   "metadata": {},
   "outputs": [],
   "source": [
    "from sklearn.ensemble import RandomForestRegressor  \n",
    "from sklearn.ensemble import GradientBoostingRegressor  \n",
    "from sklearn import svm  \n",
    "from sklearn.tree import DecisionTreeRegressor"
   ]
  },
  {
   "cell_type": "code",
   "execution_count": null,
   "id": "f1ccee01-65cb-422a-b2c5-ba41b52e0f13",
   "metadata": {},
   "outputs": [],
   "source": [
    "models = [  \n",
    "    GradientBoostingRegressor(n_estimators=200, max_depth=3, random_state=0), \n",
    "    RandomForestRegressor(n_estimators=200, max_depth=3, random_state=0),  \n",
    "    svm.SVR(),  \n",
    "   DecisionTreeRegressor()  \n",
    "]"
   ]
  },
  {
   "cell_type": "code",
   "execution_count": null,
   "id": "bd0cf278-b50c-4e75-8a4a-f00175562b46",
   "metadata": {},
   "outputs": [],
   "source": [
    "model_train=list(map(compare_models,models))"
   ]
  },
  {
   "cell_type": "code",
   "execution_count": null,
   "id": "c3b4c11c-9b7e-472e-9fc3-215d9e4beaea",
   "metadata": {},
   "outputs": [],
   "source": [
    "print(*model_train, sep = \"\\n\")"
   ]
  },
  {
   "cell_type": "code",
   "execution_count": null,
   "id": "421df973-c204-4d49-b03a-461d5167e7bf",
   "metadata": {},
   "outputs": [],
   "source": [
    "df_main_onehot.head()"
   ]
  },
  {
   "cell_type": "code",
   "execution_count": null,
   "id": "9daee650-baeb-41c0-9de0-7bc36172579f",
   "metadata": {},
   "outputs": [],
   "source": [
    "# converting test data to columns from the dataframe and omitting the values for \"hg/ha yield,\" which the machine learning model should be predicting  \n",
    "dataframe_test=pd.DataFrame(test_data,columns=df_main_onehot.loc[:, df_main_onehot.columns != 'hg/ha_yield'].columns)  \n",
    "  \n",
    "# utilizing the stack function to pivot the columns of the current dataframe and return a reshaped dataframe  \n",
    "  \n",
    "cntry=dataframe_test[[col for col in dataframe_test.columns if 'Country' in col]].stack()[dataframe_test[[col for col in dataframe_test.columns if 'Country' in col]].stack()>0]  \n",
    "cntrylist=list(pd.DataFrame(cntry).index.get_level_values(1))  \n",
    "countries=[i.split(\"_\")[1] for i in cntrylist]  \n",
    "itm=dataframe_test[[col for col in dataframe_test.columns if 'Item' in col]].stack()[dataframe_test[[col for col in dataframe_test.columns if 'Item' in col]].stack()>0]  \n",
    "itmlist=list(pd.DataFrame(itm).index.get_level_values(1))  \n",
    "items=[i.split(\"_\")[1] for i in itmlist]  \n",
    "  \n",
    "  \n",
    "dataframe_test.head()"
   ]
  },
  {
   "cell_type": "code",
   "execution_count": null,
   "id": "977bd186-3ea4-4511-80ee-11b2e846dcce",
   "metadata": {},
   "outputs": [],
   "source": [
    "dataframe_test.drop([col for col in dataframe_test.columns if 'Item' in col],axis=1,inplace=True)  \n",
    "dataframe_test.drop([col for col in dataframe_test.columns if 'Country' in col],axis=1,inplace=True)  \n",
    "dataframe_test.head() "
   ]
  },
  {
   "cell_type": "code",
   "execution_count": null,
   "id": "2f0bece2-3eee-4891-9633-9fb14a7c1a7d",
   "metadata": {},
   "outputs": [],
   "source": [
    "dataframe_test['Country']=countries  \n",
    "dataframe_test['Item']=items  \n",
    "dataframe_test.head() "
   ]
  },
  {
   "cell_type": "code",
   "execution_count": null,
   "id": "d9eaab52-7b11-43ff-9269-a01530a0f98f",
   "metadata": {},
   "outputs": [],
   "source": [
    "from sklearn.tree import DecisionTreeRegressor\n",
    "import matplotlib.pyplot as plt\n",
    "clf=DecisionTreeRegressor()  \n",
    "model=clf.fit(train_data,train_labels)  \n",
    "  \n",
    "dataframe_test[\"yield_predicted\"]= model.predict(test_data)  \n",
    "dataframe_test[\"yield_actual\"]=pd.DataFrame(test_labels)[\"hg/ha_yield\"].tolist()  \n",
    "test_group=dataframe_test.groupby(\"Item\")  \n",
    "  \n",
    "# So let's compare the model's actual values to its predictions.  \n",
    "  \n",
    "fig, ax = plt.subplots()  \n",
    "  \n",
    "ax.scatter(dataframe_test[\"yield_actual\"], dataframe_test[\"yield_predicted\"],edgecolors=(0, 0, 0))\n",
    "  \n",
    "ax.set_xlabel('Actual')  \n",
    "ax.set_ylabel('Predicted')  \n",
    "ax.set_title(\"Actual vs Predicted\")  \n",
    "plt.show()  "
   ]
  },
  {
   "cell_type": "code",
   "execution_count": null,
   "id": "96c3f2f3-b3e3-427c-b352-4caacc05bfd4",
   "metadata": {},
   "outputs": [],
   "source": [
    "import seaborn as sns\n",
    "varimp= {'imp':model.feature_importances_,'names':df_main_onehot.columns[df_main_onehot.columns!=\"hg/ha_yield\"]}  \n",
    "  \n",
    "a4_dims = (8.27,16.7)  \n",
    "fig, ax = plt.subplots(figsize=a4_dims)  \n",
    "df=pd.DataFrame.from_dict(varimp)  \n",
    "df.sort_values(ascending=False,by=[\"imp\"],inplace=True)  \n",
    "dfdf=df.dropna()  \n",
    "sns.barplot(x=\"imp\",y=\"names\",hue='names', palette=\"vlag\",data=df,orient=\"h\",ax=ax, legend=False);  "
   ]
  },
  {
   "cell_type": "code",
   "execution_count": null,
   "id": "196258d5-fc2b-4144-9756-407541e62fc9",
   "metadata": {},
   "outputs": [],
   "source": [
    "#7 most important factors that affect crops  \n",
    "a4_dims = (16.7, 8.27)  \n",
    "  \n",
    "fig, ax = plt.subplots(figsize=a4_dims)  \n",
    "df=pd.DataFrame.from_dict(varimp)  \n",
    "df.sort_values(ascending=False,by=[\"imp\"],inplace=True)  \n",
    "dfdf=df.dropna()  \n",
    "dfdf=df.nlargest(7, 'imp')  \n",
    "sns.barplot(x=\"imp\",y=\"names\",hue='names', palette=\"vlag\",data=df,orient=\"h\",ax=ax);"
   ]
  },
  {
   "cell_type": "code",
   "execution_count": null,
   "id": "9eb91750-a9dc-4727-a24a-1aa93fc279db",
   "metadata": {},
   "outputs": [],
   "source": [
    "#Boxplot that shows yield for each item  \n",
    "a4_dims = (16.7, 8.27)  \n",
    "  \n",
    "fig, ax = plt.subplots(figsize=a4_dims)  \n",
    "sns.boxplot(x=\"Item\",y=\"hg/ha_yield\",hue='hg/ha_yield', palette=\"vlag\",data=df_yield, ax=ax);  "
   ]
  },
  {
   "cell_type": "code",
   "execution_count": null,
   "id": "4b752fe7-473d-4ccc-bf1c-3066c302b8e9",
   "metadata": {},
   "outputs": [],
   "source": []
  }
 ],
 "metadata": {
  "kernelspec": {
   "display_name": "Python 3 (ipykernel)",
   "language": "python",
   "name": "python3"
  },
  "language_info": {
   "codemirror_mode": {
    "name": "ipython",
    "version": 3
   },
   "file_extension": ".py",
   "mimetype": "text/x-python",
   "name": "python",
   "nbconvert_exporter": "python",
   "pygments_lexer": "ipython3",
   "version": "3.12.4"
  },
  "widgets": {
   "application/vnd.jupyter.widget-state+json": {
    "state": {},
    "version_major": 2,
    "version_minor": 0
   }
  }
 },
 "nbformat": 4,
 "nbformat_minor": 5
}
